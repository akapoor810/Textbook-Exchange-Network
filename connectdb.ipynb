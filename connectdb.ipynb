{
 "cells": [
  {
   "cell_type": "code",
   "execution_count": 1,
   "metadata": {},
   "outputs": [],
   "source": [
    "import os\n",
    "import psycopg2\n",
    "import uuid\n",
    "from urllib.parse import urlparse\n",
    "import json\n",
    "import pandas as pd"
   ]
  },
  {
   "cell_type": "code",
   "execution_count": 2,
   "metadata": {},
   "outputs": [],
   "source": [
    "\n",
    "database = 'd7c69vohlamifa'\n",
    "username = 'vbovpottnbmopm'\n",
    "password = '9f7e4740988689211743f7b39a0529d828e8542b6d59890d0fdf04cd2103a35e'\n",
    "hostname = 'ec2-54-236-146-234.compute-1.amazonaws.com'\n",
    "\n",
    "connection = psycopg2.connect(\n",
    "    database = database,\n",
    "    user = username,\n",
    "    password = password,\n",
    "    host = hostname\n",
    ")"
   ]
  },
  {
   "cell_type": "code",
   "execution_count": 3,
   "metadata": {},
   "outputs": [],
   "source": [
    "cur = connection.cursor()\n"
   ]
  },
  {
   "cell_type": "code",
   "execution_count": 4,
   "metadata": {},
   "outputs": [
    {
     "name": "stdout",
     "output_type": "stream",
     "text": [
      "[(8140,)]\n"
     ]
    }
   ],
   "source": [
    "\n",
    "q = \"\"\"\n",
    "SELECT COUNT(*)\n",
    "FROM api_exchanges\n",
    "\"\"\"\n",
    "\n",
    "cur.execute(q)\n",
    "test = cur.fetchall()\n",
    "\n",
    "print(test)"
   ]
  },
  {
   "cell_type": "code",
   "execution_count": null,
   "metadata": {},
   "outputs": [],
   "source": []
  }
 ],
 "metadata": {
  "kernelspec": {
   "display_name": "Python 3",
   "language": "python",
   "name": "python3"
  },
  "language_info": {
   "codemirror_mode": {
    "name": "ipython",
    "version": 3
   },
   "file_extension": ".py",
   "mimetype": "text/x-python",
   "name": "python",
   "nbconvert_exporter": "python",
   "pygments_lexer": "ipython3",
   "version": "3.7.6"
  }
 },
 "nbformat": 4,
 "nbformat_minor": 4
}
